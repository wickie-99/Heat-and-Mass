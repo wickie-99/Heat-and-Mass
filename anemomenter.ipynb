{
 "cells": [
  {
   "cell_type": "code",
   "execution_count": 392,
   "metadata": {},
   "outputs": [],
   "source": [
    "import sympy as sp\n",
    "import numpy as np\n",
    "\n",
    "Pr_s = 0.707\n",
    "\n",
    "def property(T):\n",
    "        Tf = (T+300)/2\n",
    "        density = 1.1614 + (Tf-300)/(350-300)*(0.995-1.1614)\n",
    "        viscosity = (184.6 + (Tf-300)/(350-300)*(208.2-184.6))*10**-7\n",
    "        conductivity = (26.3 + (Tf-300)/(350-300)*(30.0-26.3))*10**-3\n",
    "        Pr = (0.707 + (Tf-300)/(350-300)*(0.70-0.707))\n",
    "        return(density,viscosity,conductivity,Pr)\n",
    "\n",
    "def zuka(Re_num):\n",
    "    Re = Re_num\n",
    "    if (Re<=40):       \n",
    "        C = 0.75 \n",
    "        m = 0.4\n",
    "        n = 0.33\n",
    "    elif (Re<=1000):       \n",
    "        C = 0.51 \n",
    "        m = 0.5\n",
    "        n = 0.33\n",
    "    elif (Re<=200000):       \n",
    "        C = 0.26\n",
    "        m = 0.6\n",
    "        n = 0.33\n",
    "    else:       \n",
    "        C = 0.076\n",
    "        m = 0.7\n",
    "        n = 0.33\n",
    "    return (C,m,n)\n",
    "\n",
    "I, k,C,m,n,Pr,Prs,A,s,l,Ts, Too = sp.symbols(\"I, k,C,m,n,Pr,Pr_s,A,s,l,T_s, T_oo\")\n",
    "Re, rho, d, mu, v = sp.symbols(\"Re, rho, d, mu, v\")\n",
    "dI, dv = sp.symbols(\"dI, dv\")\n",
    "Q1, Q2 = sp.symbols(\"Q_1, Q_2\")\n",
    "Err = sp.Symbol(\"Err\")\n",
    "\n",
    "eq_sensitivity = sp.Eq(I,2*v/m*dI/dv)\n",
    "eq_Re = sp.Eq(Re,rho*v*d/mu)\n",
    "eq_Q1 = sp.Eq(Q1, I**2*s*l/(sp.pi/4*d**2))\n",
    "eq_Q2 = sp.Eq(I**2, (k/d)*C*(Re**m)*(Pr**n)*((Pr/Prs)**(1/4))*(sp.pi*d*l)*(Ts-Too))\n",
    "\n",
    "l_num = 0.01\n",
    "s_num = 10.6 * 10**-8\n",
    "Too_num = 300\n",
    "\n"
   ]
  },
  {
   "cell_type": "code",
   "execution_count": 393,
   "metadata": {},
   "outputs": [
    {
     "name": "stdout",
     "output_type": "stream",
     "text": [
      "41\n"
     ]
    }
   ],
   "source": [
    "v_max = 50\n",
    "I_max = 0.2\n",
    "\n",
    "values_1 = {v:v_max,I:I_max,dI:10*10**-6,dv:0.01}       \n",
    "m_min = round(sp.solve(eq_sensitivity.subs(values_1), m)[0],1)\n",
    "\n",
    "m_Re = 0\n",
    "Re_min = 0\n",
    "\n",
    "while m_Re < m_min:\n",
    "    z = zuka(Re_min)[1]\n",
    "    m_Re = z\n",
    "    Re_min += 1\n",
    "Re_min -= 1\n",
    "\n",
    "print(Re_min)"
   ]
  },
  {
   "cell_type": "code",
   "execution_count": 394,
   "metadata": {},
   "outputs": [
    {
     "name": "stdout",
     "output_type": "stream",
     "text": [
      "14\n"
     ]
    }
   ],
   "source": [
    "min_diameters = []\n",
    "\n",
    "for Temp in range(312,327):\n",
    "    prop = property(Temp)\n",
    "    values = {Re:Re_min, rho:prop[0],v:v_max, mu:prop[1]}\n",
    "    d_min = sp.solve(eq_Re.subs(values),d)\n",
    "    min_diameters.append(d_min[0]*10**6)\n",
    "    \n",
    "d_min = int(round(max(min_diameters)))\n",
    "print(d_min)"
   ]
  },
  {
   "cell_type": "code",
   "execution_count": 395,
   "metadata": {},
   "outputs": [
    {
     "name": "stdout",
     "output_type": "stream",
     "text": [
      "diameter = 28.181818181818176\n",
      "Temperature = 319.22222222222223\n",
      "Error = 1.04867174106071e-5\n"
     ]
    }
   ],
   "source": [
    "temp_acc = 100\n",
    "dia_acc = 100\n",
    "\n",
    "values_1 = {v:v_max, I:I_max, l:l_num,s:s_num, Too:Too_num, sp.pi:np.pi}\n",
    "\n",
    "Error = 10**10\n",
    "diameter = 0\n",
    "temperature = 0\n",
    "\n",
    "for temp in np.linspace(313,327,temp_acc):\n",
    "    prop = property(temp)\n",
    "    values_2 = {k:prop[2], mu:prop[1], rho: prop[0], Pr:prop[3], Prs:Pr_s}\n",
    "    for dia in np.linspace(d_min,50,dia_acc):\n",
    "        dia = dia * 10**-6\n",
    "        Re_num = prop[0]*v_max*dia/prop[1]\n",
    "        z = zuka(Re_num)\n",
    "\n",
    "        values_3 = {C:z[0], m:z[1], n:z[2], Re:Re_num, Ts:temp, d:dia}\n",
    "        Error_temp = abs((eq_Q1.rhs - eq_Q2.rhs).subs(values_1).subs(values_2).subs(values_3))\n",
    "        if Error_temp< Error:\n",
    "            diameter = dia\n",
    "            temperature = temp\n",
    "            Error = Error_temp\n",
    "\n",
    "print(\"diameter = \", end=\"\")\n",
    "print(diameter*10**6) \n",
    "print(\"Temperature = \", end=\"\")\n",
    "print(temperature)\n",
    "print(\"Error = \", end=\"\")\n",
    "print(Error)\n",
    "\n"
   ]
  }
 ],
 "metadata": {
  "kernelspec": {
   "display_name": "Python 3",
   "language": "python",
   "name": "python3"
  },
  "language_info": {
   "codemirror_mode": {
    "name": "ipython",
    "version": 3
   },
   "file_extension": ".py",
   "mimetype": "text/x-python",
   "name": "python",
   "nbconvert_exporter": "python",
   "pygments_lexer": "ipython3",
   "version": "3.11.4"
  }
 },
 "nbformat": 4,
 "nbformat_minor": 2
}
