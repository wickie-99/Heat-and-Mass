{
 "cells": [
  {
   "cell_type": "code",
   "execution_count": 126,
   "metadata": {},
   "outputs": [],
   "source": [
    "import sympy as sp\n",
    "import numpy as np\n",
    "\n",
    "def property(T):\n",
    "        Tf = (T+300)/2\n",
    "        density = 1.1614 + (Tf-300)/(350-300)*(0.995-1.1614)\n",
    "        viscosity = (184.6 + (Tf-300)/(350-300)*(208.2-184.6))*10**-7\n",
    "        conductivity = (26.3 + (Tf-300)/(350-300)*(30.0-26.3))*10**-3\n",
    "        Pr = (0.707 + (Tf-300)/(350-300)*(0.70-0.707))\n",
    "        Pr_s = 0.707\n",
    "        return(density,viscosity,conductivity,Pr, Pr_s)\n",
    "\n",
    "def zuka(Re_num):\n",
    "    Re = Re_num\n",
    "    if (Re<=40):       \n",
    "        C = 0.75 \n",
    "        m = 0.4\n",
    "        n = 0.33\n",
    "    elif (Re<=1000):       \n",
    "        C = 0.51 \n",
    "        m = 0.5\n",
    "        n = 0.33\n",
    "    elif (Re<=200000):       \n",
    "        C = 0.26\n",
    "        m = 0.6\n",
    "        n = 0.33\n",
    "    else:       \n",
    "        C = 0.076\n",
    "        m = 0.7\n",
    "        n = 0.33\n",
    "    return (C,m,n)\n",
    "\n",
    "I, k,C,m,n,Pr,Prs,A,s,l,Ts, Too = sp.symbols(\"I, k,C,m,n,Pr,Pr_s,A,s,l,T_s, T_oo\")\n",
    "Re, rho, d, mu, v = sp.symbols(\"Re, rho, d, mu, v\")\n",
    "dI, dv = sp.symbols(\"dI, dv\")\n",
    "Q1, Q2 = sp.symbols(\"Q_1, Q_2\")\n",
    "Err = sp.Symbol(\"Err\")\n",
    "\n",
    "eq_sensitivity = sp.Eq(I,2*v/m*dI/dv)\n",
    "eq_Re = sp.Eq(Re,rho*v*d/mu)\n",
    "eq_Q1 = sp.Eq(Q1, I**2*s*l/(sp.pi/4*d**2))\n",
    "eq_Q2 = sp.Eq(I**2, (k/d)*C*(Re**m)*(Pr**n)*((Pr/Prs)**(1/4))*(sp.pi*d*l)*(Ts-Too))\n",
    "\n",
    "l_num = 0.01\n",
    "s_num = 10.6 * 10**-8\n",
    "Too_num = 300\n",
    "\n"
   ]
  },
  {
   "cell_type": "code",
   "execution_count": 127,
   "metadata": {},
   "outputs": [
    {
     "name": "stdout",
     "output_type": "stream",
     "text": [
      "41\n"
     ]
    }
   ],
   "source": [
    "v_max = 50\n",
    "I_max = 0.2\n",
    "\n",
    "values_1 = {v:v_max,I:I_max,dI:10*10**-6,dv:0.01}       \n",
    "m_min = round(sp.solve(eq_sensitivity.subs(values_1), m)[0],1)\n",
    "\n",
    "m_Re = 0\n",
    "Re_min = 0\n",
    "\n",
    "while m_Re < m_min:\n",
    "    z = zuka(Re_min)[1]\n",
    "    m_Re = z\n",
    "    Re_min += 1\n",
    "Re_min -= 1\n",
    "\n",
    "print(Re_min)"
   ]
  },
  {
   "cell_type": "code",
   "execution_count": 128,
   "metadata": {},
   "outputs": [
    {
     "name": "stdout",
     "output_type": "stream",
     "text": [
      "14\n"
     ]
    }
   ],
   "source": [
    "min_diameters = []\n",
    "\n",
    "for Temp in range(312,327):\n",
    "    prop = property(Temp)\n",
    "    values = {Re:Re_min, rho:prop[0],v:v_max, mu:prop[1]}\n",
    "    d_min = sp.solve(eq_Re.subs(values),d)\n",
    "    min_diameters.append(d_min[0]*10**6)\n",
    "    \n",
    "d_min = int(round(max(min_diameters)))\n",
    "print(d_min)"
   ]
  },
  {
   "cell_type": "code",
   "execution_count": 129,
   "metadata": {},
   "outputs": [],
   "source": [
    "temp_acc = 0.1\n",
    "dia_acc = 0.1\n",
    "\n",
    "values_1 = {v:v_max, I:I_max, l:l_num,s:s_num, Too:Too_num, sp.pi:np.pi}\n",
    "\n",
    "Error = 10**10\n",
    "diameter = 0\n",
    "temperature = 0\n",
    "\n",
    "T_step = int((327-312)/temp_acc)\n",
    "d_step = int((50-d_min+1)/dia_acc)\n",
    "\n",
    "\n",
    "for temp in np.linspace(313,327,T_step):\n",
    "    prop = property(temp)\n",
    "    values_2 = {k:prop[2], mu:prop[1], rho: prop[0], Pr:prop[3], Prs:prop[4]}\n",
    "    for dia in np.linspace(d_min,50,d_step):\n",
    "        dia = dia * 10**-6\n",
    "        Re_num = prop[0]*v_max*dia/prop[1]\n",
    "        z = zuka(Re_num)\n",
    "        values_3 = {C:z[0], m:z[1], n:z[2], Re:Re_num, Ts:temp, d:dia}\n",
    "        Error_temp = abs((eq_Q1.rhs - eq_Q2.rhs).subs(values_1).subs(values_2).subs(values_3))\n",
    "        if Error_temp< Error:\n",
    "            diameter = dia\n",
    "            temperature = temp\n",
    "            Error = Error_temp\n",
    "\n",
    "print(\"diameter = \", end=\"\")\n",
    "print(diameter*10**6) \n",
    "print(\"Temperature = \", end=\"\")\n",
    "print(temperature)\n",
    "print(\"Error = \", end=\"\")\n",
    "print(Error)\n"
   ]
  },
  {
   "cell_type": "code",
   "execution_count": null,
   "metadata": {},
   "outputs": [
    {
     "name": "stdout",
     "output_type": "stream",
     "text": [
      "[1, 2, 3, 4, 5, 6, 7, 8, 9, 10, 11, 12, 13, 14, 15, 16, 17, 18, 19, 20, 21, 22, 23, 24, 25, 26, 27, 28, 29, 30, 31, 32, 33, 34, 35, 36, 37, 38, 39, 40, 41, 42, 43, 44, 45, 46, 47, 48, 49, 50]\n",
      "[0.108146286413440, 0.124227461302157, 0.134721174989744, 0.142699880443245, 0.149212639141503, 0.154753992093986, 0.159599387015072, 0.163919117923429, 0.167826335906080, 0.171400313126611, 0.174698890983330, 0.177765656147586, 0.180634325379369, 0.183331553322749, 0.185878801160256, 0.188293621111208, 0.190590564014635, 0.192781835980494, 0.194877783399026, 0.196887257734515, 0.197328896013499, 0.199637228786908, 0.201868158596303, 0.204027483477970, 0.206120346873696, 0.208151334449457, 0.210124553460987, 0.212043698336040, 0.213912105269165, 0.215732797981700, 0.217508526320822, 0.219241799011051, 0.220934911597548, 0.222589970410147, 0.224208913214189, 0.225793527087025, 0.227345463959000, 0.228866254178414, 0.230357318396709, 0.231819978019297, 0.233255464426396, 0.234664927134885, 0.236049441044939, 0.237410012892817, 0.238747587012709, 0.240063050495221, 0.241357237817348, 0.242630935008102, 0.243884883404991, 0.245119783049028]\n"
     ]
    }
   ],
   "source": [
    "equation = sp.Eq(eq_Q1.rhs,eq_Q2.rhs)\n",
    "\n",
    "prop = property(temperature)\n",
    "values_1 = {l:l_num,s:s_num, Too:Too_num, sp.pi:np.pi,k:prop[2],d:diameter, Ts:temperature, Pr:3,Prs:4}\n",
    "eq_1 = equation.subs(values_1)\n",
    "\n",
    "x = [i for i in range(1,51)]\n",
    "y = []\n",
    "print(x)\n",
    "\n",
    "for v in x:\n",
    "    Re_num = prop[0]*v*diameter/prop[1]\n",
    "    z = zuka(Re_num)\n",
    "    values_2 = {Re:Re_num, C:z[0],m:z[1],n:z[2]}\n",
    "    i = sp.solve(eq_1.subs(values_2),I)\n",
    "    y.append(i[1])\n",
    "\n",
    "print(y)\n"
   ]
  },
  {
   "cell_type": "code",
   "execution_count": null,
   "metadata": {},
   "outputs": [],
   "source": []
  }
 ],
 "metadata": {
  "kernelspec": {
   "display_name": "Python 3",
   "language": "python",
   "name": "python3"
  },
  "language_info": {
   "codemirror_mode": {
    "name": "ipython",
    "version": 3
   },
   "file_extension": ".py",
   "mimetype": "text/x-python",
   "name": "python",
   "nbconvert_exporter": "python",
   "pygments_lexer": "ipython3",
   "version": "3.11.4"
  }
 },
 "nbformat": 4,
 "nbformat_minor": 2
}
