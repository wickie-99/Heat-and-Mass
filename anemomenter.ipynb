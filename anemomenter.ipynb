{
 "cells": [
  {
   "cell_type": "code",
   "execution_count": 33,
   "metadata": {},
   "outputs": [],
   "source": [
    "import sympy as sp\n",
    "import numpy as np\n",
    "import matplotlib.pyplot as plt\n",
    "\n",
    "def property(T):\n",
    "        Tf = (T+300)/2\n",
    "        density = 1.1614 + (Tf-300)/(350-300)*(0.995-1.1614)\n",
    "        viscosity = (184.6 + (Tf-300)/(350-300)*(208.2-184.6))*10**-7\n",
    "        conductivity = (26.3 + (Tf-300)/(350-300)*(30.0-26.3))*10**-3\n",
    "        Pr = (0.707 + (Tf-300)/(350-300)*(0.70-0.707))\n",
    "        Pr_s = 0.707\n",
    "        return(density,viscosity,conductivity,Pr, Pr_s)\n",
    "\n",
    "def zuka(Re_num):\n",
    "    Re = Re_num\n",
    "    if (Re<=40):       \n",
    "        C = 0.75 \n",
    "        m = 0.4\n",
    "        n = 0.33\n",
    "    elif (Re<=1000):       \n",
    "        C = 0.51 \n",
    "        m = 0.5\n",
    "        n = 0.33\n",
    "    elif (Re<=200000):       \n",
    "        C = 0.26\n",
    "        m = 0.6\n",
    "        n = 0.33\n",
    "    else:       \n",
    "        C = 0.076\n",
    "        m = 0.7\n",
    "        n = 0.33\n",
    "    return (C,m,n)\n",
    "\n",
    "I, k,C,m,n,Pr,Prs,A,s,l,Ts, Too = sp.symbols(\"I, k,C,m,n,Pr,Pr_s,A,s,l,T_s, T_oo\")\n",
    "Re, rho, d, mu, v = sp.symbols(\"Re, rho, d, mu, v\")\n",
    "dI, dv = sp.symbols(\"dI, dv\")\n",
    "Q1, Q2 = sp.symbols(\"Q_1, Q_2\")\n",
    "Err = sp.Symbol(\"Err\")\n",
    "\n",
    "eq_sensitivity = sp.Eq(I,2*v/m*dI/dv)\n",
    "eq_Re = sp.Eq(Re,rho*v*d/mu)\n",
    "eq_Q1 = sp.Eq(Q1, I**2*s*l/(sp.pi/4*d**2))\n",
    "eq_Q2 = sp.Eq(Q2, (k/d)*C*(Re**m)*(Pr**n)*((Pr/Prs)**(1/4))*(sp.pi*d*l)*(Ts-Too))\n",
    "\n",
    "l_num = 0.01\n",
    "s_num = 10.6 * 10**-8\n",
    "Too_num = 300\n",
    "\n"
   ]
  },
  {
   "cell_type": "code",
   "execution_count": 34,
   "metadata": {},
   "outputs": [
    {
     "name": "stdout",
     "output_type": "stream",
     "text": [
      "41\n"
     ]
    }
   ],
   "source": [
    "v_max = 50\n",
    "I_max = 0.2\n",
    "\n",
    "values_1 = {v:v_max,I:I_max,dI:10*10**-6,dv:0.01}       \n",
    "m_min = round(sp.solve(eq_sensitivity.subs(values_1), m)[0],1)\n",
    "\n",
    "m_Re = 0\n",
    "Re_min = 0\n",
    "\n",
    "while m_Re < m_min:\n",
    "    z = zuka(Re_min)[1]\n",
    "    m_Re = z\n",
    "    Re_min += 1\n",
    "Re_min -= 1\n",
    "\n",
    "print(Re_min)"
   ]
  },
  {
   "cell_type": "code",
   "execution_count": 35,
   "metadata": {},
   "outputs": [
    {
     "name": "stdout",
     "output_type": "stream",
     "text": [
      "14\n"
     ]
    }
   ],
   "source": [
    "min_diameters = []\n",
    "\n",
    "for Temp in range(312,327):\n",
    "    prop = property(Temp)\n",
    "    values = {Re:Re_min, rho:prop[0],v:v_max, mu:prop[1]}\n",
    "    d_min = sp.solve(eq_Re.subs(values),d)\n",
    "    min_diameters.append(d_min[0]*10**6)\n",
    "    \n",
    "d_min = int(round(max(min_diameters)))\n",
    "print(d_min)"
   ]
  },
  {
   "cell_type": "code",
   "execution_count": 36,
   "metadata": {},
   "outputs": [
    {
     "name": "stdout",
     "output_type": "stream",
     "text": [
      "diameter = 29.902439024390244\n",
      "Temperature = 316.5704697986577\n",
      "Error = 7.64073448206171e-7\n"
     ]
    }
   ],
   "source": [
    "temp_acc = 0.1\n",
    "dia_acc = 0.1\n",
    "\n",
    "values_1 = {v:v_max, I:I_max, l:l_num,s:s_num, Too:Too_num, sp.pi:np.pi}\n",
    "\n",
    "Error = 10**10\n",
    "diameter = 0\n",
    "temperature = 0\n",
    "\n",
    "T_step = int((327-312)/temp_acc)\n",
    "d_step = int((50-d_min+1)/dia_acc)\n",
    "\n",
    "\n",
    "for temp in np.linspace(313,327,T_step):\n",
    "    prop = property(temp)\n",
    "    values_2 = {k:prop[2], mu:prop[1], rho: prop[0], Pr:prop[3], Prs:prop[4]}\n",
    "    for dia in np.linspace(d_min,50,d_step):\n",
    "        dia = dia * 10**-6\n",
    "        Re_num = prop[0]*v_max*dia/prop[1]\n",
    "        z = zuka(Re_num)\n",
    "        values_3 = {C:z[0], m:z[1], n:z[2], Re:Re_num, Ts:temp, d:dia}\n",
    "        Error_temp = abs((eq_Q1.rhs - eq_Q2.rhs).subs(values_1).subs(values_2).subs(values_3))\n",
    "        if Error_temp< Error:\n",
    "            diameter = dia\n",
    "            temperature = temp\n",
    "            Error = Error_temp\n",
    "\n",
    "print(\"diameter = \", end=\"\")\n",
    "print(diameter*10**6) \n",
    "print(\"Temperature = \", end=\"\")\n",
    "print(temperature)\n",
    "print(\"Error = \", end=\"\")\n",
    "print(Error)\n"
   ]
  },
  {
   "cell_type": "code",
   "execution_count": 37,
   "metadata": {},
   "outputs": [
    {
     "name": "stdout",
     "output_type": "stream",
     "text": [
      "[1, 2, 3, 4, 5, 6, 7, 8, 9, 10, 11, 12, 13, 14, 15, 16, 17, 18, 19, 20, 21, 22, 23, 24, 25, 26, 27, 28, 29, 30, 31, 32, 33, 34, 35, 36, 37, 38, 39, 40, 41, 42, 43, 44, 45, 46, 47, 48, 49, 50]\n",
      "[0.0885695457076997, 0.101739691457270, 0.110333823395772, 0.116868216214871, 0.122202029315058, 0.126740281435257, 0.130708558490045, 0.134246327717461, 0.137446257490188, 0.140373270051507, 0.143074736296350, 0.145586352796541, 0.147935732873018, 0.150144706121549, 0.152230848801570, 0.154208535813440, 0.156089683989858, 0.157884289879478, 0.159600826959419, 0.161246544393720, 0.162827695383594, 0.164349714225252, 0.164708762981469, 0.166470604633999, 0.168178218867944, 0.169835347231131, 0.171445340925732, 0.173011214318297, 0.174535689484866, 0.176021233547566, 0.177470090168450, 0.178884306272180, 0.180265754845593, 0.181616154490491, 0.182937086273124, 0.184230008310028, 0.185496268448257, 0.186737115333351, 0.187953708106719, 0.189147124932704, 0.190318370522073, 0.191468382791457, 0.192598038776043, 0.193708159894548, 0.194799516650439, 0.195872832840860, 0.196928789334326, 0.197968027469557, 0.198991152120469, 0.199998734466244]\n"
     ]
    }
   ],
   "source": [
    "equation = sp.Eq(eq_Q1.rhs,eq_Q2.rhs)\n",
    "\n",
    "prop = property(temperature)\n",
    "values_1 = {l:l_num,s:s_num, Too:Too_num, sp.pi:np.pi,k:prop[2],d:diameter, Ts:temperature, Pr:prop[3],Prs:prop[4]}\n",
    "eq_1 = equation.subs(values_1)\n",
    "\n",
    "x = [i for i in range(1,51)]\n",
    "y = []\n",
    "print(x)\n",
    "\n",
    "for v in x:\n",
    "    Re_num = prop[0]*v*diameter/prop[1]\n",
    "    z = zuka(Re_num)\n",
    "    values_2 = {Re:Re_num, C:z[0],m:z[1],n:z[2]}\n",
    "    i = sp.solve(eq_1.subs(values_2),I)\n",
    "    y.append(i[1])\n",
    "\n",
    "print(y)\n"
   ]
  },
  {
   "cell_type": "code",
   "execution_count": 38,
   "metadata": {},
   "outputs": [
    {
     "data": {
      "image/png": "[encoded data removed]",
      "text/plain": [
       "<Figure size 640x480 with 1 Axes>"
      ]
     },
     "metadata": {},
     "output_type": "display_data"
    }
   ],
   "source": [
    "plt.plot(x, y)\n",
    "\n",
    "plt.title('Current vs Velocity')\n",
    "plt.xlabel('Velocity')\n",
    "plt.ylabel('Current')\n",
    "\n",
    "plt.show()"
   ]
  },
  {
   "cell_type": "code",
   "execution_count": null,
   "metadata": {},
   "outputs": [],
   "source": []
  }
 ],
 "metadata": {
  "kernelspec": {
   "display_name": "Python 3",
   "language": "python",
   "name": "python3"
  },
  "language_info": {
   "codemirror_mode": {
    "name": "ipython",
    "version": 3
   },
   "file_extension": ".py",
   "mimetype": "text/x-python",
   "name": "python",
   "nbconvert_exporter": "python",
   "pygments_lexer": "ipython3",
   "version": "3.12.0"
  }
 },
 "nbformat": 4,
 "nbformat_minor": 2
}
